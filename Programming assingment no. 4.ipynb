{
 "cells": [
  {
   "cell_type": "markdown",
   "id": "8d558ab2",
   "metadata": {},
   "source": [
    "3) Write Python Program to print Fibonacci sequence?"
   ]
  },
  {
   "cell_type": "code",
   "execution_count": null,
   "id": "59f4b000",
   "metadata": {},
   "outputs": [],
   "source": [
    "def fib(n):\n",
    "    a = 1\n",
    "    b = 1\n",
    "    for i in range(n):\n",
    "        yield a,i\n",
    "        a,b = b,a+b\n",
    "for i in fib(10):\n",
    "    print(i)\n"
   ]
  },
  {
   "cell_type": "markdown",
   "id": "582e3903",
   "metadata": {},
   "source": [
    "6) Write Python Program to find the sum of Natural Numbers?"
   ]
  },
  {
   "cell_type": "code",
   "execution_count": null,
   "id": "b01f87cc",
   "metadata": {},
   "outputs": [],
   "source": [
    "num = int(input(\"Enter a number\"))\n",
    "if num < 0:\n",
    "    print(\"Enter a positive number\")\n",
    "else:\n",
    "    sum = 0\n",
    "    while (num > 0):\n",
    "        sum += num\n",
    "        num -= 1\n",
    "        print(\"sum\",sum)\n",
    "    \n",
    "    "
   ]
  },
  {
   "cell_type": "markdown",
   "id": "53c7a25f",
   "metadata": {},
   "source": [
    "1) Write a Python Program to Find the Factorial of a Number?"
   ]
  },
  {
   "cell_type": "code",
   "execution_count": null,
   "id": "cc252248",
   "metadata": {},
   "outputs": [],
   "source": [
    "\n",
    "num = int(input(\"enter a number\"))\n",
    "factorial = 1\n",
    "if num < 0:\n",
    "    print(\"factorial number does not exist for negative number\")\n",
    "elif num == 0:\n",
    "    print(\"the factorial of 0 is 1\")\n",
    "else :\n",
    "    for i in range(1,num+1):\n",
    "        factorial = factorial*i\n",
    "        print(\"the factorial of\",num,\"is\",factorial)\n",
    "        \n"
   ]
  },
  {
   "cell_type": "markdown",
   "id": "e50cbce7",
   "metadata": {},
   "source": [
    "2) Write a Python Program to display the multiplication table?"
   ]
  },
  {
   "cell_type": "code",
   "execution_count": 6,
   "id": "431a2512",
   "metadata": {},
   "outputs": [
    {
     "name": "stdout",
     "output_type": "stream",
     "text": [
      "15 x 1 = 15\n",
      "15 x 2 = 30\n",
      "15 x 3 = 45\n",
      "15 x 4 = 60\n",
      "15 x 5 = 75\n",
      "15 x 6 = 90\n",
      "15 x 7 = 105\n",
      "15 x 8 = 120\n",
      "15 x 9 = 135\n",
      "15 x 10 = 150\n"
     ]
    }
   ],
   "source": [
    "num = 15\n",
    "for i in range(1,11):\n",
    "    print(num,\"x\",i,\"=\",num*i)"
   ]
  },
  {
   "cell_type": "markdown",
   "id": "dcb40ac8",
   "metadata": {},
   "source": [
    "4) Write a Python Program to check Armstrong Number?"
   ]
  },
  {
   "cell_type": "code",
   "execution_count": null,
   "id": "01e24e4e",
   "metadata": {},
   "outputs": [],
   "source": [
    "# It is a number that is equal to sum of cubes of its digits.\n",
    "n = int(input(\"enter a number\"))\n",
    "sum = 0\n",
    "\n",
    "temp = n\n",
    "while temp > 0:\n",
    "    digit = temp % 10\n",
    "    sum += digit**3\n",
    "    temp //= 10\n",
    "if n == sum:\n",
    "    print(n,\"It is Armstrong Number\")\n",
    "else:\n",
    "    print(n,\"Is is not Armstrong Number\")\n",
    "    "
   ]
  },
  {
   "cell_type": "markdown",
   "id": "ec9ad074",
   "metadata": {},
   "source": [
    "5) Write Python Program to find Armstrong Number in an interval?"
   ]
  },
  {
   "cell_type": "code",
   "execution_count": 5,
   "id": "6c691423",
   "metadata": {},
   "outputs": [
    {
     "name": "stdout",
     "output_type": "stream",
     "text": [
      "153\n",
      "370\n",
      "371\n",
      "407\n"
     ]
    }
   ],
   "source": [
    "lower = 100\n",
    "upper = 500\n",
    "\n",
    "for n in range(lower,upper+1):\n",
    "    order = len(str(n))\n",
    "    sum = 0\n",
    "    temp = n\n",
    "    while temp > 0:\n",
    "        digit = temp % 10\n",
    "        sum += digit**order\n",
    "        temp //= 10\n",
    "    if n == sum:\n",
    "        print(n)\n",
    "    \n",
    "    "
   ]
  },
  {
   "cell_type": "code",
   "execution_count": null,
   "id": "8b15c85e",
   "metadata": {},
   "outputs": [],
   "source": []
  }
 ],
 "metadata": {
  "kernelspec": {
   "display_name": "Python 3 (ipykernel)",
   "language": "python",
   "name": "python3"
  },
  "language_info": {
   "codemirror_mode": {
    "name": "ipython",
    "version": 3
   },
   "file_extension": ".py",
   "mimetype": "text/x-python",
   "name": "python",
   "nbconvert_exporter": "python",
   "pygments_lexer": "ipython3",
   "version": "3.9.7"
  }
 },
 "nbformat": 4,
 "nbformat_minor": 5
}
